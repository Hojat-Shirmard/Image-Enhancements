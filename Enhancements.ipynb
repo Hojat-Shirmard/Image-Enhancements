{
 "cells": [
  {
   "cell_type": "code",
   "execution_count": 1,
   "metadata": {},
   "outputs": [],
   "source": [
    "import matplotlib.pyplot as plt\n",
    "import numpy as np\n",
    "import skimage.io as io\n",
    "from skimage import exposure, img_as_float"
   ]
  },
  {
   "cell_type": "code",
   "execution_count": 2,
   "metadata": {},
   "outputs": [],
   "source": [
    "B5 = io.imread(\"G:/Python_Learning/Python_RS/Image_Copy/Image/Landsat/NIR.tif\")"
   ]
  },
  {
   "cell_type": "code",
   "execution_count": 3,
   "metadata": {},
   "outputs": [
    {
     "data": {
      "text/plain": [
       "array([[3311, 3527, 3537, ...,  140,  140,  142],\n",
       "       [2843, 3178, 3337, ...,  138,  137,  142],\n",
       "       [2769, 2932, 2177, ...,  138,  141,  141],\n",
       "       ...,\n",
       "       [3812, 3513, 3390, ..., 1476, 1493, 1649],\n",
       "       [3571, 3299, 3193, ..., 1870, 2157, 2440],\n",
       "       [3430, 3347, 3396, ..., 2986, 2712, 2843]], dtype=int16)"
      ]
     },
     "execution_count": 3,
     "metadata": {},
     "output_type": "execute_result"
    }
   ],
   "source": [
    "B5"
   ]
  },
  {
   "cell_type": "code",
   "execution_count": 4,
   "metadata": {},
   "outputs": [],
   "source": [
    "img= img_as_float(B5)"
   ]
  },
  {
   "cell_type": "code",
   "execution_count": 5,
   "metadata": {},
   "outputs": [
    {
     "data": {
      "text/plain": [
       "array([[0.1010605 , 0.1076524 , 0.10795758, ..., 0.00428779, 0.00428779,\n",
       "        0.00434882],\n",
       "       [0.08677806, 0.0970016 , 0.10185397, ..., 0.00422675, 0.00419623,\n",
       "        0.00434882],\n",
       "       [0.08451972, 0.08949416, 0.06645304, ..., 0.00422675, 0.0043183 ,\n",
       "        0.0043183 ],\n",
       "       ...,\n",
       "       [0.11635004, 0.10722515, 0.10347143, ..., 0.04505989, 0.0455787 ,\n",
       "        0.05033951],\n",
       "       [0.10899519, 0.10069429, 0.09745937, ..., 0.057084  , 0.06584268,\n",
       "        0.07447929],\n",
       "       [0.10469215, 0.10215915, 0.10365454, ..., 0.09114214, 0.08278019,\n",
       "        0.08677806]])"
      ]
     },
     "execution_count": 5,
     "metadata": {},
     "output_type": "execute_result"
    }
   ],
   "source": [
    "img"
   ]
  },
  {
   "cell_type": "code",
   "execution_count": 6,
   "metadata": {},
   "outputs": [
    {
     "name": "stderr",
     "output_type": "stream",
     "text": [
      "D:\\Softwares\\envs\\am_keras_tf2\\lib\\site-packages\\skimage\\util\\dtype.py:141: UserWarning: Possible precision loss when converting from float64 to uint16\n",
      "  .format(dtypeobj_in, dtypeobj_out))\n"
     ]
    }
   ],
   "source": [
    "gamma_corr= exposure.adjust_gamma(img, gamma=0.5, gain=1)\n",
    "log_adjust= exposure.adjust_log(img, gain=1, inv=False)\n",
    "adj_sigmoid= exposure.adjust_sigmoid(img, cutoff=0.5, gain=10, inv=False)\n",
    "adaptive= exposure.equalize_adapthist(img, clip_limit=0.1, nbins=256)\n",
    "his_eq= exposure.equalize_hist(img, nbins=256, mask=None)"
   ]
  },
  {
   "cell_type": "code",
   "execution_count": null,
   "metadata": {},
   "outputs": [],
   "source": [
    "fig , ax = plt.subplots(nrows=2, ncols=2, figsize=(20,15))\n",
    "ax[0,0].imshow(img, cmap='gray')\n",
    "ax[0,0].set_title ('Float-Image')\n",
    "ax[0,0].axis('off')\n",
    "ax[0,1].hist(img.ravel(), bins=256, density=True, histtype='bar', color='black')\n",
    "ax[0,1].ticklabel_format(style='plain')\n",
    "ax[0,1].set_title('histogram of float image')\n",
    "###########################################################\n",
    "ax[1,0].imshow(his_eq, cmap='gray')\n",
    "ax[1,0].set_title ('his_eq')\n",
    "ax[1,0].axis('off')\n",
    "ax[1,1].hist(his_eq.ravel(), bins=256, density=True, histtype='bar', color='black')\n",
    "ax[1,1].ticklabel_format(style='plain')\n",
    "ax[1,1].set_title('histogram of his_eq')"
   ]
  },
  {
   "cell_type": "code",
   "execution_count": 51,
   "metadata": {},
   "outputs": [
    {
     "data": {
      "text/plain": [
       "True"
      ]
     },
     "execution_count": 51,
     "metadata": {},
     "output_type": "execute_result"
    }
   ],
   "source": [
    "img.mean() > gamma_corr.min()"
   ]
  },
  {
   "cell_type": "code",
   "execution_count": null,
   "metadata": {},
   "outputs": [],
   "source": []
  }
 ],
 "metadata": {
  "kernelspec": {
   "display_name": "Python 3",
   "language": "python",
   "name": "python3"
  },
  "language_info": {
   "codemirror_mode": {
    "name": "ipython",
    "version": 3
   },
   "file_extension": ".py",
   "mimetype": "text/x-python",
   "name": "python",
   "nbconvert_exporter": "python",
   "pygments_lexer": "ipython3",
   "version": "3.7.7"
  }
 },
 "nbformat": 4,
 "nbformat_minor": 4
}
